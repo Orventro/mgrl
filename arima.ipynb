{
 "cells": [
  {
   "cell_type": "code",
   "execution_count": 1,
   "metadata": {},
   "outputs": [],
   "source": [
    "import numpy as np\n",
    "import pandas as pd\n",
    "import matplotlib.pyplot as plt\n",
    "from sklearn.metrics import r2_score\n",
    "from statsmodels.tsa.statespace.sarimax import SARIMAX"
   ]
  },
  {
   "cell_type": "code",
   "execution_count": 2,
   "metadata": {},
   "outputs": [
    {
     "data": {
      "text/html": [
       "<div>\n",
       "<style scoped>\n",
       "    .dataframe tbody tr th:only-of-type {\n",
       "        vertical-align: middle;\n",
       "    }\n",
       "\n",
       "    .dataframe tbody tr th {\n",
       "        vertical-align: top;\n",
       "    }\n",
       "\n",
       "    .dataframe thead th {\n",
       "        text-align: right;\n",
       "    }\n",
       "</style>\n",
       "<table border=\"1\" class=\"dataframe\">\n",
       "  <thead>\n",
       "    <tr style=\"text-align: right;\">\n",
       "      <th></th>\n",
       "      <th>MW</th>\n",
       "    </tr>\n",
       "    <tr>\n",
       "      <th>dt</th>\n",
       "      <th></th>\n",
       "    </tr>\n",
       "  </thead>\n",
       "  <tbody>\n",
       "    <tr>\n",
       "      <th>2022-03-20 00:00:00</th>\n",
       "      <td>144.25465</td>\n",
       "    </tr>\n",
       "    <tr>\n",
       "      <th>2022-03-20 00:05:00</th>\n",
       "      <td>135.43588</td>\n",
       "    </tr>\n",
       "    <tr>\n",
       "      <th>2022-03-20 00:10:00</th>\n",
       "      <td>138.42427</td>\n",
       "    </tr>\n",
       "    <tr>\n",
       "      <th>2022-03-20 00:15:00</th>\n",
       "      <td>179.78500</td>\n",
       "    </tr>\n",
       "    <tr>\n",
       "      <th>2022-03-20 00:20:00</th>\n",
       "      <td>180.75333</td>\n",
       "    </tr>\n",
       "    <tr>\n",
       "      <th>...</th>\n",
       "      <td>...</td>\n",
       "    </tr>\n",
       "    <tr>\n",
       "      <th>2023-03-19 23:35:00</th>\n",
       "      <td>55.79147</td>\n",
       "    </tr>\n",
       "    <tr>\n",
       "      <th>2023-03-19 23:40:00</th>\n",
       "      <td>56.35817</td>\n",
       "    </tr>\n",
       "    <tr>\n",
       "      <th>2023-03-19 23:45:00</th>\n",
       "      <td>61.58179</td>\n",
       "    </tr>\n",
       "    <tr>\n",
       "      <th>2023-03-19 23:50:00</th>\n",
       "      <td>65.80003</td>\n",
       "    </tr>\n",
       "    <tr>\n",
       "      <th>2023-03-19 23:55:00</th>\n",
       "      <td>64.94831</td>\n",
       "    </tr>\n",
       "  </tbody>\n",
       "</table>\n",
       "<p>105120 rows × 1 columns</p>\n",
       "</div>"
      ],
      "text/plain": [
       "                            MW\n",
       "dt                            \n",
       "2022-03-20 00:00:00  144.25465\n",
       "2022-03-20 00:05:00  135.43588\n",
       "2022-03-20 00:10:00  138.42427\n",
       "2022-03-20 00:15:00  179.78500\n",
       "2022-03-20 00:20:00  180.75333\n",
       "...                        ...\n",
       "2023-03-19 23:35:00   55.79147\n",
       "2023-03-19 23:40:00   56.35817\n",
       "2023-03-19 23:45:00   61.58179\n",
       "2023-03-19 23:50:00   65.80003\n",
       "2023-03-19 23:55:00   64.94831\n",
       "\n",
       "[105120 rows x 1 columns]"
      ]
     },
     "execution_count": 2,
     "metadata": {},
     "output_type": "execute_result"
    }
   ],
   "source": [
    "df = pd.read_csv('data/HOLLISTR_1_N101.csv')\n",
    "df = df[['INTERVALSTARTTIME_GMT', 'MW', 'LMP_TYPE']]\n",
    "df = df[df['LMP_TYPE'] == 'LMP']\n",
    "df.drop(columns=['LMP_TYPE'], inplace=True)\n",
    "df.reset_index(inplace=True, drop=True)\n",
    "df.columns = ['dt', 'MW']\n",
    "df['dt'] = pd.to_datetime(df['dt'].str.slice(0, -6).str.replace('T', ' '))\n",
    "df.set_index('dt', inplace=True)\n",
    "train, test = df.iloc[:len(df)//2], df.iloc[len(df)//2:]\n",
    "df"
   ]
  },
  {
   "cell_type": "code",
   "execution_count": 4,
   "metadata": {},
   "outputs": [
    {
     "name": "stderr",
     "output_type": "stream",
     "text": [
      "/home/orventro/anaconda3/envs/mgrl/lib/python3.10/site-packages/statsmodels/tsa/base/tsa_model.py:473: ValueWarning: No frequency information was provided, so inferred frequency 5T will be used.\n",
      "  self._init_dates(dates, freq)\n",
      "/home/orventro/anaconda3/envs/mgrl/lib/python3.10/site-packages/statsmodels/tsa/base/tsa_model.py:473: ValueWarning: No frequency information was provided, so inferred frequency 5T will be used.\n",
      "  self._init_dates(dates, freq)\n",
      "/home/orventro/anaconda3/envs/mgrl/lib/python3.10/site-packages/statsmodels/tsa/base/tsa_model.py:473: ValueWarning: No frequency information was provided, so inferred frequency 5T will be used.\n",
      "  self._init_dates(dates, freq)\n"
     ]
    }
   ],
   "source": [
    "model = ARIMA(train, order=(5, 1, 1))\n",
    "model = model.fit()"
   ]
  },
  {
   "cell_type": "code",
   "execution_count": 5,
   "metadata": {},
   "outputs": [
    {
     "data": {
      "text/plain": [
       "ar.L1        0.817526\n",
       "ar.L2        0.062194\n",
       "ar.L3        0.007356\n",
       "ar.L4        0.042105\n",
       "ar.L5        0.028030\n",
       "ma.L1       -0.999025\n",
       "sigma2    1028.833155\n",
       "dtype: float64"
      ]
     },
     "execution_count": 5,
     "metadata": {},
     "output_type": "execute_result"
    }
   ],
   "source": [
    "model.params"
   ]
  },
  {
   "cell_type": "code",
   "execution_count": null,
   "metadata": {},
   "outputs": [
    {
     "data": {
      "text/plain": [
       "2022-09-18 12:00:00     70.519338\n",
       "2022-09-18 12:05:00     67.300209\n",
       "2022-09-18 12:10:00     75.680114\n",
       "2022-09-18 12:15:00     74.115389\n",
       "2022-09-18 12:20:00     83.765553\n",
       "2022-09-18 12:25:00     83.764671\n",
       "2022-09-18 12:30:00     93.725572\n",
       "2022-09-18 12:35:00     96.819807\n",
       "2022-09-18 12:40:00    106.725956\n",
       "2022-09-18 12:45:00    113.318413\n",
       "Freq: 5T, Name: predicted_mean, dtype: float64"
      ]
     },
     "execution_count": 97,
     "metadata": {},
     "output_type": "execute_result"
    }
   ],
   "source": [
    "model.forecast(10)"
   ]
  },
  {
   "cell_type": "code",
   "execution_count": null,
   "metadata": {},
   "outputs": [
    {
     "data": {
      "text/html": [
       "<div>\n",
       "<style scoped>\n",
       "    .dataframe tbody tr th:only-of-type {\n",
       "        vertical-align: middle;\n",
       "    }\n",
       "\n",
       "    .dataframe tbody tr th {\n",
       "        vertical-align: top;\n",
       "    }\n",
       "\n",
       "    .dataframe thead th {\n",
       "        text-align: right;\n",
       "    }\n",
       "</style>\n",
       "<table border=\"1\" class=\"dataframe\">\n",
       "  <thead>\n",
       "    <tr style=\"text-align: right;\">\n",
       "      <th></th>\n",
       "      <th>pred</th>\n",
       "      <th>true</th>\n",
       "    </tr>\n",
       "  </thead>\n",
       "  <tbody>\n",
       "    <tr>\n",
       "      <th>2022-09-18</th>\n",
       "      <td>70.519338</td>\n",
       "      <td>6.33704</td>\n",
       "    </tr>\n",
       "  </tbody>\n",
       "</table>\n",
       "</div>"
      ],
      "text/plain": [
       "                 pred     true\n",
       "2022-09-18  70.519338  6.33704"
      ]
     },
     "execution_count": 95,
     "metadata": {},
     "output_type": "execute_result"
    }
   ],
   "source": [
    "pred = pd.DataFrame(model.predict(pd.Timestamp(dt.iloc[0])))\n",
    "day_min = pred.groupby(pred.index.date).min().join(df.groupby(df.index.date).min())\n",
    "day_min.columns = 'pred', 'true'\n",
    "day_min"
   ]
  },
  {
   "cell_type": "code",
   "execution_count": null,
   "metadata": {},
   "outputs": [],
   "source": [
    "dt = pd.to_datetime(test.reset_index()['dt'])"
   ]
  },
  {
   "cell_type": "code",
   "execution_count": null,
   "metadata": {},
   "outputs": [
    {
     "data": {
      "text/plain": [
       "Timestamp('2022-09-18 12:00:00')"
      ]
     },
     "execution_count": 93,
     "metadata": {},
     "output_type": "execute_result"
    }
   ],
   "source": []
  },
  {
   "cell_type": "code",
   "execution_count": null,
   "metadata": {},
   "outputs": [
    {
     "data": {
      "text/plain": [
       "Index([1663502400, 1663502700, 1663503000, 1663503300, 1663503600, 1663503900,\n",
       "       1663504200, 1663504500, 1663504800, 1663505100,\n",
       "       ...\n",
       "       1679267400, 1679267700, 1679268000, 1679268300, 1679268600, 1679268900,\n",
       "       1679269200, 1679269500, 1679269800, 1679270100],\n",
       "      dtype='int64', name='dt', length=52560)"
      ]
     },
     "execution_count": 83,
     "metadata": {},
     "output_type": "execute_result"
    }
   ],
   "source": []
  },
  {
   "cell_type": "code",
   "execution_count": null,
   "metadata": {},
   "outputs": [
    {
     "ename": "TypeError",
     "evalue": "unsupported Type DatetimeIndex",
     "output_type": "error",
     "traceback": [
      "\u001b[0;31m---------------------------------------------------------------------------\u001b[0m",
      "\u001b[0;31mTypeError\u001b[0m                                 Traceback (most recent call last)",
      "\u001b[1;32m/home/orventro/Programms/mgrl/arima.ipynb Cell 6\u001b[0m line \u001b[0;36m1\n\u001b[0;32m----> <a href='vscode-notebook-cell:/home/orventro/Programms/mgrl/arima.ipynb#X25sZmlsZQ%3D%3D?line=0'>1</a>\u001b[0m train\u001b[39m.\u001b[39;49mto_timestamp()\n",
      "File \u001b[0;32m~/.local/lib/python3.10/site-packages/pandas/core/frame.py:11929\u001b[0m, in \u001b[0;36mDataFrame.to_timestamp\u001b[0;34m(self, freq, how, axis, copy)\u001b[0m\n\u001b[1;32m  11927\u001b[0m old_ax \u001b[39m=\u001b[39m \u001b[39mgetattr\u001b[39m(\u001b[39mself\u001b[39m, axis_name)\n\u001b[1;32m  11928\u001b[0m \u001b[39mif\u001b[39;00m \u001b[39mnot\u001b[39;00m \u001b[39misinstance\u001b[39m(old_ax, PeriodIndex):\n\u001b[0;32m> 11929\u001b[0m     \u001b[39mraise\u001b[39;00m \u001b[39mTypeError\u001b[39;00m(\u001b[39mf\u001b[39m\u001b[39m\"\u001b[39m\u001b[39munsupported Type \u001b[39m\u001b[39m{\u001b[39;00m\u001b[39mtype\u001b[39m(old_ax)\u001b[39m.\u001b[39m\u001b[39m__name__\u001b[39m\u001b[39m}\u001b[39;00m\u001b[39m\"\u001b[39m)\n\u001b[1;32m  11931\u001b[0m new_ax \u001b[39m=\u001b[39m old_ax\u001b[39m.\u001b[39mto_timestamp(freq\u001b[39m=\u001b[39mfreq, how\u001b[39m=\u001b[39mhow)\n\u001b[1;32m  11933\u001b[0m \u001b[39msetattr\u001b[39m(new_obj, axis_name, new_ax)\n",
      "\u001b[0;31mTypeError\u001b[0m: unsupported Type DatetimeIndex"
     ]
    }
   ],
   "source": [
    "train.to_timestamp()"
   ]
  },
  {
   "cell_type": "code",
   "execution_count": null,
   "metadata": {},
   "outputs": [
    {
     "name": "stdout",
     "output_type": "stream",
     "text": [
      "-2.058777404939098\n"
     ]
    },
    {
     "data": {
      "image/png": "[encoded data removed]",
      "text/plain": [
       "<Figure size 640x480 with 1 Axes>"
      ]
     },
     "metadata": {},
     "output_type": "display_data"
    }
   ],
   "source": [
    "plt.plot(day_min['true'], day_min['pred'], '.')\n",
    "print(r2_score(day_min['true'].values, day_min['pred'].values+15))"
   ]
  },
  {
   "cell_type": "code",
   "execution_count": null,
   "metadata": {},
   "outputs": [
    {
     "data": {
      "text/plain": [
       "-2.9405940594059388"
      ]
     },
     "execution_count": 48,
     "metadata": {},
     "output_type": "execute_result"
    }
   ],
   "source": [
    "r2_score(np.linspace(0, 100, 100), np.linspace(-100, 100, 100))"
   ]
  },
  {
   "cell_type": "code",
   "execution_count": null,
   "metadata": {},
   "outputs": [
    {
     "data": {
      "text/plain": [
       "0.8971578280407344"
      ]
     },
     "execution_count": 65,
     "metadata": {},
     "output_type": "execute_result"
    }
   ],
   "source": [
    "diff = (day_min['true'] - day_min['pred']) ** 2\n",
    "day_min_dcnt = day_min[diff < np.quantile(diff, 0.9)]\n",
    "r2_score(day_min_dcnt['true'].values, day_min_dcnt['pred'].values+15)"
   ]
  },
  {
   "cell_type": "code",
   "execution_count": null,
   "metadata": {},
   "outputs": [
    {
     "data": {
      "text/plain": [
       "[<matplotlib.lines.Line2D at 0x7efff8575ba0>]"
      ]
     },
     "execution_count": 63,
     "metadata": {},
     "output_type": "execute_result"
    },
    {
     "data": {
      "image/png": "[encoded data removed]",
      "text/plain": [
       "<Figure size 640x480 with 1 Axes>"
      ]
     },
     "metadata": {},
     "output_type": "display_data"
    }
   ],
   "source": [
    "plt.plot(day_min_dcnt['true'], day_min_dcnt['pred']+15, '.')\n",
    "plt.plot(np.arange(-100, 100), np.arange(-100, 100))"
   ]
  },
  {
   "cell_type": "code",
   "execution_count": null,
   "metadata": {},
   "outputs": [],
   "source": []
  }
 ],
 "metadata": {
  "kernelspec": {
   "display_name": "mgrl",
   "language": "python",
   "name": "python3"
  },
  "language_info": {
   "codemirror_mode": {
    "name": "ipython",
    "version": 3
   },
   "file_extension": ".py",
   "mimetype": "text/x-python",
   "name": "python",
   "nbconvert_exporter": "python",
   "pygments_lexer": "ipython3",
   "version": "3.10.13"
  }
 },
 "nbformat": 4,
 "nbformat_minor": 2
}
