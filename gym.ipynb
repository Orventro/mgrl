{
 "cells": [
  {
   "cell_type": "code",
   "execution_count": 1,
   "metadata": {},
   "outputs": [],
   "source": [
    "from gymnasium import Env\n",
    "from gymnasium.spaces import Box\n",
    "from typing import Any, SupportsFloat\n",
    "import numpy as np\n",
    "import pandas as pd\n",
    "import matplotlib.pyplot as plt\n",
    "import matplotlib.dates as mdt\n",
    "import random\n",
    "\n",
    "from stable_baselines3 import A2C\n",
    "\n",
    "from grid import Microgrid"
   ]
  },
  {
   "cell_type": "code",
   "execution_count": 2,
   "metadata": {},
   "outputs": [
    {
     "name": "stderr",
     "output_type": "stream",
     "text": [
      "/home/orventro/.local/lib/python3.10/site-packages/gymnasium/spaces/box.py:130: UserWarning: \u001b[33mWARN: Box bound precision lowered by casting to float32\u001b[0m\n",
      "  gym.logger.warn(f\"Box bound precision lowered by casting to {self.dtype}\")\n"
     ]
    },
    {
     "data": {
      "text/plain": [
       "(array([0. , 0.2, 1. , 0. , 0. ]), {})"
      ]
     },
     "execution_count": 2,
     "metadata": {},
     "output_type": "execute_result"
    }
   ],
   "source": [
    "df = pd.read_parquet('./data/power_price.parquet')\n",
    "df = df.dropna()\n",
    "days = df['time'].dt.date.unique()\n",
    "\n",
    "dataset = []\n",
    "\n",
    "for day in days:\n",
    "    part = df[df['time'].dt.date == day]\n",
    "    if len(part) == 288:\n",
    "        dataset.append({'power' : part['power'].to_numpy(),\n",
    "                        'price' : part['price'].to_numpy()})\n",
    "\n",
    "env = Microgrid()\n",
    "env.reset(dataset)"
   ]
  },
  {
   "cell_type": "code",
   "execution_count": 3,
   "metadata": {},
   "outputs": [],
   "source": [
    "model = A2C('MlpPolicy', env, verbose=0)\n",
    "m = model.learn(total_timesteps=28800)"
   ]
  },
  {
   "cell_type": "code",
   "execution_count": 20,
   "metadata": {},
   "outputs": [],
   "source": [
    "def simpleAlgo(state):\n",
    "    t, batt, price, sol, hydro = state\n",
    "    if price < 0:\n",
    "        return np.array([1, 0])\n",
    "    if hydro == 1:\n",
    "        return np.array([0, 1])\n",
    "    hydro_need = (1 - hydro) / (1 - t) ** 2\n",
    "    return np.array([max(0, min(1, hydro_need - price)), max(0, min(1, (price + 1) / 2)) ])\n"
   ]
  },
  {
   "cell_type": "code",
   "execution_count": 21,
   "metadata": {},
   "outputs": [
    {
     "name": "stdout",
     "output_type": "stream",
     "text": [
      "Episode 1, score_rand 36.36077298756197, score_model 65.79224650033446, score_algo 27.56899682051445\n",
      "Episode 2, score_rand 34.11146804349788, score_model 58.812264837497395, score_algo 24.231402548843523\n",
      "Episode 3, score_rand 85.36221083458527, score_model 118.08778193599608, score_algo 33.65831086114392\n",
      "Episode 4, score_rand 31.698423284836185, score_model 54.80922515892134, score_algo 20.702630357529102\n",
      "Episode 5, score_rand 49.06900295020333, score_model 94.50293970664492, score_algo -22.149031021531094\n",
      "Episode 6, score_rand 66.74981343471129, score_model 76.23856401433711, score_algo 29.767128023055907\n",
      "Episode 7, score_rand 52.563448833130636, score_model 71.7663952295051, score_algo -5.554633145142667\n",
      "Episode 8, score_rand 42.68279018805088, score_model 49.997308187810994, score_algo 19.74258348958621\n",
      "Episode 9, score_rand 14.807817819755599, score_model 52.64982318545105, score_algo -20.77103934436588\n",
      "Episode 10, score_rand 33.027643737402144, score_model 49.84398837916909, score_algo 12.143633833200855\n"
     ]
    }
   ],
   "source": [
    "episodes = 10\n",
    "\n",
    "for ep in range(episodes):\n",
    "    seed = random.randint(0, 1e9)\n",
    "\n",
    "    state, info = env.reset(seed=seed)\n",
    "    done = False\n",
    "    score_rand = 0\n",
    "    while not done:\n",
    "        action = env.action_space.sample()\n",
    "        state, reward, done, trunc, info = env.step(action)\n",
    "        score_rand += reward\n",
    "    \n",
    "\n",
    "    state, info = env.reset(seed=seed)\n",
    "    done = False\n",
    "    score_model = 0\n",
    "    while not done:\n",
    "        action, state = model.predict(state)\n",
    "        state, reward, done, trunc, info = env.step(action)\n",
    "        score_model += reward\n",
    "    \n",
    "    state, info = env.reset(seed=seed)\n",
    "    done = False\n",
    "    score_algo = 0\n",
    "    while not done:\n",
    "        action = simpleAlgo(state)\n",
    "        state, reward, done, trunc, info = env.step(action)\n",
    "        score_algo += reward\n",
    "    print(f'Episode {ep+1}, score_rand {score_rand}, score_model {score_model}, score_algo {score_algo}')"
   ]
  },
  {
   "cell_type": "code",
   "execution_count": null,
   "metadata": {},
   "outputs": [],
   "source": []
  }
 ],
 "metadata": {
  "kernelspec": {
   "display_name": "Python 3 (ipykernel)",
   "language": "python",
   "name": "python3"
  },
  "language_info": {
   "codemirror_mode": {
    "name": "ipython",
    "version": 3
   },
   "file_extension": ".py",
   "mimetype": "text/x-python",
   "name": "python",
   "nbconvert_exporter": "python",
   "pygments_lexer": "ipython3",
   "version": "3.10.6"
  },
  "vscode": {
   "interpreter": {
    "hash": "868f397eb618ffbee5069d46a74f1311d7f755ffa6d7c2ea597f71a940bcd474"
   }
  }
 },
 "nbformat": 4,
 "nbformat_minor": 2
}
