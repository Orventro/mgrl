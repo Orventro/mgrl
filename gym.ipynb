{
 "cells": [
  {
   "cell_type": "code",
   "execution_count": 1,
   "metadata": {},
   "outputs": [
    {
     "name": "stderr",
     "output_type": "stream",
     "text": [
      "2023-10-18 18:53:00.367695: I tensorflow/core/platform/cpu_feature_guard.cc:182] This TensorFlow binary is optimized to use available CPU instructions in performance-critical operations.\n",
      "To enable the following instructions: SSE4.1 SSE4.2 AVX AVX2 AVX_VNNI FMA, in other operations, rebuild TensorFlow with the appropriate compiler flags.\n"
     ]
    }
   ],
   "source": [
    "from gymnasium import Env\n",
    "from gymnasium.spaces import Box\n",
    "from typing import Any, SupportsFloat\n",
    "import numpy as np\n",
    "import pandas as pd\n",
    "import matplotlib.pyplot as plt\n",
    "import matplotlib.dates as mdt\n",
    "import random\n",
    "\n",
    "from grid import Microgrid\n",
    "from agents import MLAgent\n",
    "\n",
    "from stable_baselines3 import A2C\n",
    "\n",
    "import warnings\n",
    "warnings.filterwarnings(\"ignore\")"
   ]
  },
  {
   "cell_type": "code",
   "execution_count": 2,
   "metadata": {},
   "outputs": [
    {
     "data": {
      "text/plain": [
       "(array([0. , 0.2, 1. , 0. , 0. ]), {'ts_start': 15188})"
      ]
     },
     "execution_count": 2,
     "metadata": {},
     "output_type": "execute_result"
    }
   ],
   "source": [
    "df = pd.read_parquet('./data/power_price.parquet')\n",
    "df = df.dropna()\n",
    "days = df['time'].dt.date.unique()\n",
    "\n",
    "# dataset = []\n",
    "\n",
    "# for day in days:\n",
    "#     part = df[df['time'].dt.date == day]\n",
    "#     if len(part) == 288:\n",
    "#         dataset.append({'power' : part['power'].to_numpy(),\n",
    "#                         'price' : part['price'].to_numpy()})\n",
    "\n",
    "env = Microgrid()\n",
    "env.reset(df)"
   ]
  },
  {
   "cell_type": "code",
   "execution_count": 3,
   "metadata": {},
   "outputs": [],
   "source": [
    "model = A2C('MlpPolicy', env, verbose=0)\n",
    "m = model.learn(total_timesteps=288000)"
   ]
  },
  {
   "cell_type": "code",
   "execution_count": 4,
   "metadata": {},
   "outputs": [],
   "source": [
    "def simpleAlgo(state):\n",
    "    t, batt, price, sol, hydro = state\n",
    "    return np.array([1, 1 - price])\n"
   ]
  },
  {
   "cell_type": "code",
   "execution_count": 5,
   "metadata": {},
   "outputs": [],
   "source": [
    "df = pd.read_csv('data/HOLLISTR_1_N101.csv')\n",
    "df = df[['INTERVALSTARTTIME_GMT', 'MW', 'LMP_TYPE']]\n",
    "df = df[df['LMP_TYPE'] == 'LMP']\n",
    "df.drop(columns=['LMP_TYPE'], inplace=True)\n",
    "df.reset_index(inplace=True, drop=True)\n",
    "df.columns = ['dt', 'MW']\n",
    "df['dt'] = pd.to_datetime(df['dt'].str.slice(0, -6).str.replace('T', ' '))\n",
    "# df['date'] = df['dt'].dt.date\n",
    "# df['time'] =  df['dt'].dt.hour * 12 + df['dt'].dt.minute // 5\n",
    "# df.drop(columns=['dt'], inplace=True)\n",
    "df\n",
    "\n",
    "agent = MLAgent()\n",
    "agent.load_history(df.set_index('dt'))"
   ]
  },
  {
   "cell_type": "code",
   "execution_count": 6,
   "metadata": {},
   "outputs": [
    {
     "name": "stdout",
     "output_type": "stream",
     "text": [
      "Episode 1, score_rand 386.1124799341898, score_model 0,score_algo 567.79098137442, score_agent 432.389725826874\n"
     ]
    }
   ],
   "source": [
    "episodes = 10\n",
    "\n",
    "for ep in range(episodes):\n",
    "    seed = random.randint(0, 1e9)\n",
    "\n",
    "    state, info = env.reset(seed=seed)\n",
    "    done = False\n",
    "    score_rand = 0\n",
    "    while not done:\n",
    "        action = env.action_space.sample()\n",
    "        state, reward, done, trunc, info = env.step(action)\n",
    "        score_rand += reward\n",
    "    \n",
    "\n",
    "    state, info = env.reset(seed=seed)\n",
    "    done = False\n",
    "    score_model = 0\n",
    "    while not done:\n",
    "        action, state = model.predict(state)\n",
    "        state, reward, done, trunc, info = env.step(action)\n",
    "        score_model += reward\n",
    "    \n",
    "    state, info = env.reset(seed=seed)\n",
    "    done = False\n",
    "    score_algo = 0\n",
    "    while not done:\n",
    "        action = simpleAlgo(state)\n",
    "        state, reward, done, trunc, info = env.step(action)\n",
    "        score_algo += reward\n",
    "    \n",
    "    state, info = env.reset(seed=seed)\n",
    "    agent.reset(info)\n",
    "    done = False\n",
    "    score_agent = 0\n",
    "    while not done:\n",
    "        action = agent.predict(state)\n",
    "        state, reward, done, trunc, info = env.step(action)\n",
    "        score_agent += reward\n",
    "    print(f'Episode {ep+1}, score_rand {score_rand}, score_model {score_model},\\\n",
    "score_algo {score_algo}, score_agent {score_agent}')"
   ]
  },
  {
   "cell_type": "code",
   "execution_count": null,
   "metadata": {},
   "outputs": [
    {
     "ename": "NameError",
     "evalue": "name 'model' is not defined",
     "output_type": "error",
     "traceback": [
      "\u001b[0;31m---------------------------------------------------------------------------\u001b[0m",
      "\u001b[0;31mNameError\u001b[0m                                 Traceback (most recent call last)",
      "\u001b[1;32m/home/orventro/Programms/mgrl/gym.ipynb Cell 7\u001b[0m line \u001b[0;36m1\n\u001b[1;32m     <a href='vscode-notebook-cell:/home/orventro/Programms/mgrl/gym.ipynb#X16sZmlsZQ%3D%3D?line=16'>17</a>\u001b[0m actions_model \u001b[39m=\u001b[39m []\n\u001b[1;32m     <a href='vscode-notebook-cell:/home/orventro/Programms/mgrl/gym.ipynb#X16sZmlsZQ%3D%3D?line=17'>18</a>\u001b[0m \u001b[39mwhile\u001b[39;00m \u001b[39mnot\u001b[39;00m done:\n\u001b[0;32m---> <a href='vscode-notebook-cell:/home/orventro/Programms/mgrl/gym.ipynb#X16sZmlsZQ%3D%3D?line=18'>19</a>\u001b[0m     action, state \u001b[39m=\u001b[39m model\u001b[39m.\u001b[39mpredict(state)\n\u001b[1;32m     <a href='vscode-notebook-cell:/home/orventro/Programms/mgrl/gym.ipynb#X16sZmlsZQ%3D%3D?line=19'>20</a>\u001b[0m     actions_model\u001b[39m.\u001b[39mappend(action\u001b[39m.\u001b[39mcopy())\n\u001b[1;32m     <a href='vscode-notebook-cell:/home/orventro/Programms/mgrl/gym.ipynb#X16sZmlsZQ%3D%3D?line=20'>21</a>\u001b[0m     state, reward, done, trunc, info \u001b[39m=\u001b[39m env\u001b[39m.\u001b[39mstep(action)\n",
      "\u001b[0;31mNameError\u001b[0m: name 'model' is not defined"
     ]
    }
   ],
   "source": [
    "seed = random.randint(0, 1e9)\n",
    "\n",
    "state, info = env.reset(seed=seed)\n",
    "done = False\n",
    "score_rand = 0\n",
    "actions_rand = []\n",
    "while not done:\n",
    "    action = env.action_space.sample()\n",
    "    actions_rand.append(action)\n",
    "    state, reward, done, trunc, info = env.step(action)\n",
    "    score_rand += reward\n",
    "actions_rand = np.array(actions_rand)\n",
    "\n",
    "state, info = env.reset(seed=seed)\n",
    "done = False\n",
    "score_model = 0\n",
    "actions_model = []\n",
    "while not done:\n",
    "    action, state = model.predict(state)\n",
    "    actions_model.append(action.copy())\n",
    "    state, reward, done, trunc, info = env.step(action)\n",
    "    score_model += reward\n",
    "actions_model = np.array(actions_model)\n",
    "\n",
    "state, info = env.reset(seed=seed)\n",
    "done = False\n",
    "score_algo = 0\n",
    "actions_algo = []\n",
    "while not done:\n",
    "    action = simpleAlgo(state)\n",
    "    actions_algo.append(action)\n",
    "    state, reward, done, trunc, info = env.step(action)\n",
    "    score_algo += reward\n",
    "actions_algo = np.array(actions_algo)\n",
    "print(f'Episode {ep+1}, score_rand {score_rand}, score_model {score_model}, score_algo {score_algo}')\n",
    "\n",
    "plt.plot(actions_model[:,0])"
   ]
  },
  {
   "cell_type": "code",
   "execution_count": null,
   "metadata": {},
   "outputs": [],
   "source": []
  }
 ],
 "metadata": {
  "kernelspec": {
   "display_name": "Python 3 (ipykernel)",
   "language": "python",
   "name": "python3"
  },
  "language_info": {
   "codemirror_mode": {
    "name": "ipython",
    "version": 3
   },
   "file_extension": ".py",
   "mimetype": "text/x-python",
   "name": "python",
   "nbconvert_exporter": "python",
   "pygments_lexer": "ipython3",
   "version": "3.10.13"
  },
  "vscode": {
   "interpreter": {
    "hash": "868f397eb618ffbee5069d46a74f1311d7f755ffa6d7c2ea597f71a940bcd474"
   }
  }
 },
 "nbformat": 4,
 "nbformat_minor": 2
}
