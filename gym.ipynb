{
 "cells": [
  {
   "cell_type": "code",
   "execution_count": 1,
   "metadata": {},
   "outputs": [
    {
     "name": "stderr",
     "output_type": "stream",
     "text": [
      "2023-10-21 19:57:02.827345: I tensorflow/core/platform/cpu_feature_guard.cc:182] This TensorFlow binary is optimized to use available CPU instructions in performance-critical operations.\n",
      "To enable the following instructions: SSE4.1 SSE4.2 AVX AVX2 AVX_VNNI FMA, in other operations, rebuild TensorFlow with the appropriate compiler flags.\n"
     ]
    }
   ],
   "source": [
    "from gymnasium import Env\n",
    "from gymnasium.spaces import Box\n",
    "from typing import Any, SupportsFloat\n",
    "import numpy as np\n",
    "import pandas as pd\n",
    "import matplotlib.pyplot as plt\n",
    "import matplotlib.dates as mdt\n",
    "import random\n",
    "\n",
    "from grid import Microgrid\n",
    "from agents import MLAgent\n",
    "\n",
    "from stable_baselines3 import A2C\n",
    "\n",
    "import warnings\n",
    "warnings.filterwarnings(\"ignore\")"
   ]
  },
  {
   "cell_type": "code",
   "execution_count": 2,
   "metadata": {},
   "outputs": [
    {
     "data": {
      "text/plain": [
       "(array([0. , 0.2, 1. , 0. , 0. ]), {'ts_start': 20444})"
      ]
     },
     "execution_count": 2,
     "metadata": {},
     "output_type": "execute_result"
    }
   ],
   "source": [
    "df = pd.read_parquet('./data/power_price.parquet')\n",
    "df = df.dropna()\n",
    "days = df['time'].dt.date.unique()\n",
    "\n",
    "# dataset = []\n",
    "\n",
    "# for day in days:\n",
    "#     part = df[df['time'].dt.date == day]\n",
    "#     if len(part) == 288:\n",
    "#         dataset.append({'power' : part['power'].to_numpy(),\n",
    "#                         'price' : part['price'].to_numpy()})\n",
    "\n",
    "env = Microgrid()\n",
    "env.reset(df)"
   ]
  },
  {
   "cell_type": "code",
   "execution_count": 3,
   "metadata": {},
   "outputs": [],
   "source": [
    "model = A2C('MlpPolicy', env, verbose=0)\n",
    "m = model.learn(total_timesteps=28800)"
   ]
  },
  {
   "cell_type": "code",
   "execution_count": 4,
   "metadata": {},
   "outputs": [],
   "source": [
    "def simpleAlgo(state):\n",
    "    t, batt, price, sol, hydro = state\n",
    "    return np.array([1, 1 - price])\n"
   ]
  },
  {
   "cell_type": "code",
   "execution_count": 5,
   "metadata": {},
   "outputs": [],
   "source": [
    "df = pd.read_csv('data/HOLLISTR_1_N101.csv')\n",
    "df = df[['INTERVALSTARTTIME_GMT', 'MW', 'LMP_TYPE']]\n",
    "df = df[df['LMP_TYPE'] == 'LMP']\n",
    "df.drop(columns=['LMP_TYPE'], inplace=True)\n",
    "df.reset_index(inplace=True, drop=True)\n",
    "df.columns = ['dt', 'MW']\n",
    "df['dt'] = pd.to_datetime(df['dt'].str.slice(0, -6).str.replace('T', ' '))\n",
    "# df['date'] = df['dt'].dt.date\n",
    "# df['time'] =  df['dt'].dt.hour * 12 + df['dt'].dt.minute // 5\n",
    "# df.drop(columns=['dt'], inplace=True)\n",
    "df\n",
    "\n",
    "agent = MLAgent()\n",
    "agent.load_history(df.set_index('dt'))"
   ]
  },
  {
   "cell_type": "code",
   "execution_count": 7,
   "metadata": {},
   "outputs": [
    {
     "name": "stdout",
     "output_type": "stream",
     "text": [
      "Episode 1: score_model 424.88848333105983,score_algo 700.980605766899, score_agent 1099.0934246865659\n",
      "Episode 2: score_model 1913.202676152816,score_algo 2188.0866044637382, score_agent 1297.1747390992284\n",
      "Episode 3: score_model 221.34098451930024,score_algo 227.2647449577429, score_agent 208.11968586874164\n",
      "Episode 4: score_model 232.58584120165807,score_algo 220.47344731763394, score_agent 206.1153906844099\n",
      "Episode 5: score_model 330.60736192749164,score_algo 379.6650372723298, score_agent 281.9526614976177\n",
      "Episode 6: score_model 264.0479534012527,score_algo 272.0606317820366, score_agent 232.0510351731367\n",
      "Episode 7: score_model 516.626588810546,score_algo 574.0449548231339, score_agent 364.0244083960932\n",
      "Episode 8: score_model 357.8198711547278,score_algo 375.6695126813228, score_agent 336.4225625102358\n",
      "Episode 9: score_model 448.846098634485,score_algo 497.50165843958246, score_agent 384.33616757927894\n",
      "Episode 10: score_model 318.9115307818083,score_algo 375.72527296431576, score_agent 397.08015008374326\n"
     ]
    }
   ],
   "source": [
    "episodes = 10\n",
    "# env.verbose = True\n",
    "for ep in range(episodes):\n",
    "    seed = random.randint(0, 1e9)\n",
    "\n",
    "    state, info = env.reset(seed=seed)\n",
    "    done = False\n",
    "    score_model = 0\n",
    "    while not done:\n",
    "        action, state = model.predict(state)\n",
    "        state, reward, done, trunc, info = env.step(action)\n",
    "        score_model += reward\n",
    "    \n",
    "    state, info = env.reset(seed=seed)\n",
    "    done = False\n",
    "    score_algo = 0\n",
    "    while not done:\n",
    "        action = simpleAlgo(state)\n",
    "        state, reward, done, trunc, info = env.step(action)\n",
    "        score_algo += reward\n",
    "    \n",
    "    state, info = env.reset(seed=seed)\n",
    "    agent.reset(info)\n",
    "    done = False\n",
    "    score_agent = 0\n",
    "    while not done:\n",
    "        action = agent.predict(state)\n",
    "        state, reward, done, trunc, info = env.step(action)\n",
    "        score_agent += reward\n",
    "    print(f'Episode {ep+1}: score_model {score_model},\\\n",
    "score_algo {score_algo}, score_agent {score_agent}')"
   ]
  },
  {
   "cell_type": "code",
   "execution_count": null,
   "metadata": {},
   "outputs": [],
   "source": []
  }
 ],
 "metadata": {
  "kernelspec": {
   "display_name": "Python 3 (ipykernel)",
   "language": "python",
   "name": "python3"
  },
  "language_info": {
   "codemirror_mode": {
    "name": "ipython",
    "version": 3
   },
   "file_extension": ".py",
   "mimetype": "text/x-python",
   "name": "python",
   "nbconvert_exporter": "python",
   "pygments_lexer": "ipython3",
   "version": "3.10.13"
  },
  "vscode": {
   "interpreter": {
    "hash": "868f397eb618ffbee5069d46a74f1311d7f755ffa6d7c2ea597f71a940bcd474"
   }
  }
 },
 "nbformat": 4,
 "nbformat_minor": 2
}
