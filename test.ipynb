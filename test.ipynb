{
 "cells": [
  {
   "cell_type": "code",
   "execution_count": 19,
   "metadata": {},
   "outputs": [],
   "source": [
    "from gymnasium import Env\n",
    "from gymnasium.spaces import Box\n",
    "from typing import Any, SupportsFloat\n",
    "import numpy as np\n",
    "import pandas as pd\n",
    "import matplotlib.pyplot as plt\n",
    "import matplotlib.dates as mdt\n",
    "import random\n",
    "from tqdm.notebook import tqdm\n",
    "\n",
    "import warnings\n",
    "warnings.filterwarnings(\"ignore\")\n",
    "\n",
    "from statsmodels.tsa.statespace.sarimax import SARIMAX"
   ]
  },
  {
   "cell_type": "code",
   "execution_count": 2,
   "metadata": {},
   "outputs": [
    {
     "data": {
      "text/html": [
       "<div>\n",
       "<style scoped>\n",
       "    .dataframe tbody tr th:only-of-type {\n",
       "        vertical-align: middle;\n",
       "    }\n",
       "\n",
       "    .dataframe tbody tr th {\n",
       "        vertical-align: top;\n",
       "    }\n",
       "\n",
       "    .dataframe thead th {\n",
       "        text-align: right;\n",
       "    }\n",
       "</style>\n",
       "<table border=\"1\" class=\"dataframe\">\n",
       "  <thead>\n",
       "    <tr style=\"text-align: right;\">\n",
       "      <th></th>\n",
       "      <th>dt</th>\n",
       "      <th>MW</th>\n",
       "    </tr>\n",
       "  </thead>\n",
       "  <tbody>\n",
       "    <tr>\n",
       "      <th>0</th>\n",
       "      <td>2022-03-20 00:00:00</td>\n",
       "      <td>144.25465</td>\n",
       "    </tr>\n",
       "    <tr>\n",
       "      <th>1</th>\n",
       "      <td>2022-03-20 00:05:00</td>\n",
       "      <td>135.43588</td>\n",
       "    </tr>\n",
       "    <tr>\n",
       "      <th>2</th>\n",
       "      <td>2022-03-20 00:10:00</td>\n",
       "      <td>138.42427</td>\n",
       "    </tr>\n",
       "    <tr>\n",
       "      <th>3</th>\n",
       "      <td>2022-03-20 00:15:00</td>\n",
       "      <td>179.78500</td>\n",
       "    </tr>\n",
       "    <tr>\n",
       "      <th>4</th>\n",
       "      <td>2022-03-20 00:20:00</td>\n",
       "      <td>180.75333</td>\n",
       "    </tr>\n",
       "    <tr>\n",
       "      <th>...</th>\n",
       "      <td>...</td>\n",
       "      <td>...</td>\n",
       "    </tr>\n",
       "    <tr>\n",
       "      <th>105115</th>\n",
       "      <td>2023-03-19 23:35:00</td>\n",
       "      <td>55.79147</td>\n",
       "    </tr>\n",
       "    <tr>\n",
       "      <th>105116</th>\n",
       "      <td>2023-03-19 23:40:00</td>\n",
       "      <td>56.35817</td>\n",
       "    </tr>\n",
       "    <tr>\n",
       "      <th>105117</th>\n",
       "      <td>2023-03-19 23:45:00</td>\n",
       "      <td>61.58179</td>\n",
       "    </tr>\n",
       "    <tr>\n",
       "      <th>105118</th>\n",
       "      <td>2023-03-19 23:50:00</td>\n",
       "      <td>65.80003</td>\n",
       "    </tr>\n",
       "    <tr>\n",
       "      <th>105119</th>\n",
       "      <td>2023-03-19 23:55:00</td>\n",
       "      <td>64.94831</td>\n",
       "    </tr>\n",
       "  </tbody>\n",
       "</table>\n",
       "<p>105120 rows × 2 columns</p>\n",
       "</div>"
      ],
      "text/plain": [
       "                        dt         MW\n",
       "0      2022-03-20 00:00:00  144.25465\n",
       "1      2022-03-20 00:05:00  135.43588\n",
       "2      2022-03-20 00:10:00  138.42427\n",
       "3      2022-03-20 00:15:00  179.78500\n",
       "4      2022-03-20 00:20:00  180.75333\n",
       "...                    ...        ...\n",
       "105115 2023-03-19 23:35:00   55.79147\n",
       "105116 2023-03-19 23:40:00   56.35817\n",
       "105117 2023-03-19 23:45:00   61.58179\n",
       "105118 2023-03-19 23:50:00   65.80003\n",
       "105119 2023-03-19 23:55:00   64.94831\n",
       "\n",
       "[105120 rows x 2 columns]"
      ]
     },
     "execution_count": 2,
     "metadata": {},
     "output_type": "execute_result"
    }
   ],
   "source": [
    "df = pd.read_csv('data/HOLLISTR_1_N101.csv')\n",
    "df = df[['INTERVALSTARTTIME_GMT', 'MW', 'LMP_TYPE']]\n",
    "df = df[df['LMP_TYPE'] == 'LMP']\n",
    "df.drop(columns=['LMP_TYPE'], inplace=True)\n",
    "df.reset_index(inplace=True, drop=True)\n",
    "df.columns = ['dt', 'MW']\n",
    "df['dt'] = pd.to_datetime(df['dt'].str.slice(0, -6).str.replace('T', ' '))\n",
    "# df['date'] = df['dt'].dt.date\n",
    "# df['time'] =  df['dt'].dt.hour * 12 + df['dt'].dt.minute // 5\n",
    "# df.drop(columns=['dt'], inplace=True)\n",
    "df"
   ]
  },
  {
   "cell_type": "code",
   "execution_count": 39,
   "metadata": {},
   "outputs": [
    {
     "data": {
      "image/png": "[encoded data removed]",
      "text/plain": [
       "<Figure size 640x480 with 1 Axes>"
      ]
     },
     "metadata": {},
     "output_type": "display_data"
    }
   ],
   "source": [
    "plt.hist(df.groupby(df['dt'].dt.date)['MW'].mean(), bins=20);"
   ]
  },
  {
   "cell_type": "code",
   "execution_count": 41,
   "metadata": {},
   "outputs": [
    {
     "data": {
      "text/plain": [
       "0.27123287671232876"
      ]
     },
     "execution_count": 41,
     "metadata": {},
     "output_type": "execute_result"
    }
   ],
   "source": [
    "np.mean(df.groupby(df['dt'].dt.date)['MW'].min() < 0)"
   ]
  },
  {
   "cell_type": "code",
   "execution_count": 34,
   "metadata": {},
   "outputs": [],
   "source": [
    "def score_sample(df, n, len, order):\n",
    "    model = SARIMAX(df.iloc[:n], order=order)\n",
    "    model = model.fit(full_output=False, disp=False)\n",
    "    pred = model.forecast(len).values\n",
    "    return np.mean(np.abs((df.iloc[n:n+len]['MW'] - pred)))\n",
    "\n",
    "def score(df, order, num):\n",
    "    pred_len = 200\n",
    "    n = np.random.randint(10000, len(df)-pred_len, num)\n",
    "    return [score_sample(df, n[i], pred_len, order) for i in tqdm(range(num))]"
   ]
  },
  {
   "cell_type": "code",
   "execution_count": 37,
   "metadata": {},
   "outputs": [
    {
     "data": {
      "application/vnd.jupyter.widget-view+json": {
       "model_id": "ea59a1d56bbf4e1992c654f6c2f0e07b",
       "version_major": 2,
       "version_minor": 0
      },
      "text/plain": [
       "  0%|          | 0/20 [00:00<?, ?it/s]"
      ]
     },
     "metadata": {},
     "output_type": "display_data"
    },
    {
     "data": {
      "text/plain": [
       "(25.869227096378097, 17.764433703530095)"
      ]
     },
     "execution_count": 37,
     "metadata": {},
     "output_type": "execute_result"
    }
   ],
   "source": [
    "scores = score(df.set_index('dt'), (5, 1, 1), 20)\n",
    "np.mean(scores), np.std(scores)"
   ]
  },
  {
   "cell_type": "code",
   "execution_count": 29,
   "metadata": {},
   "outputs": [
    {
     "data": {
      "application/vnd.jupyter.widget-view+json": {
       "model_id": "9141f848f86e4b728dd929d389c2dd77",
       "version_major": 2,
       "version_minor": 0
      },
      "text/plain": [
       "  0%|          | 0/20 [00:00<?, ?it/s]"
      ]
     },
     "metadata": {},
     "output_type": "display_data"
    },
    {
     "data": {
      "text/plain": [
       "(32.28408227036833, 27.18845168823339)"
      ]
     },
     "execution_count": 29,
     "metadata": {},
     "output_type": "execute_result"
    }
   ],
   "source": [
    "scores = score(df.set_index('dt'), (6, 1, 1))\n",
    "np.mean(scores), np.std(scores)"
   ]
  },
  {
   "cell_type": "code",
   "execution_count": 28,
   "metadata": {},
   "outputs": [
    {
     "data": {
      "application/vnd.jupyter.widget-view+json": {
       "model_id": "603e11fa5dd746399bdefb7528021c19",
       "version_major": 2,
       "version_minor": 0
      },
      "text/plain": [
       "  0%|          | 0/20 [00:00<?, ?it/s]"
      ]
     },
     "metadata": {},
     "output_type": "display_data"
    },
    {
     "data": {
      "text/plain": [
       "(24.331725020201286, 14.849668062421166)"
      ]
     },
     "execution_count": 28,
     "metadata": {},
     "output_type": "execute_result"
    }
   ],
   "source": [
    "scores = score(df.set_index('dt'), (7, 1, 1))\n",
    "np.mean(scores), np.std(scores)"
   ]
  },
  {
   "cell_type": "code",
   "execution_count": 31,
   "metadata": {},
   "outputs": [
    {
     "data": {
      "application/vnd.jupyter.widget-view+json": {
       "model_id": "b1de130845e546d7a4835e2e5a74c645",
       "version_major": 2,
       "version_minor": 0
      },
      "text/plain": [
       "  0%|          | 0/20 [00:00<?, ?it/s]"
      ]
     },
     "metadata": {},
     "output_type": "display_data"
    },
    {
     "data": {
      "text/plain": [
       "(23.638493167180737, 19.256230139600326)"
      ]
     },
     "execution_count": 31,
     "metadata": {},
     "output_type": "execute_result"
    }
   ],
   "source": [
    "scores = score(df.set_index('dt'), (8, 1, 1))\n",
    "np.mean(scores), np.std(scores)"
   ]
  },
  {
   "cell_type": "code",
   "execution_count": null,
   "metadata": {},
   "outputs": [],
   "source": []
  }
 ],
 "metadata": {
  "kernelspec": {
   "display_name": "Python 3",
   "language": "python",
   "name": "python3"
  },
  "language_info": {
   "codemirror_mode": {
    "name": "ipython",
    "version": 3
   },
   "file_extension": ".py",
   "mimetype": "text/x-python",
   "name": "python",
   "nbconvert_exporter": "python",
   "pygments_lexer": "ipython3",
   "version": "3.10.12"
  }
 },
 "nbformat": 4,
 "nbformat_minor": 2
}
