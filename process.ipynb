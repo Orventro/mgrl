{
 "cells": [
  {
   "cell_type": "code",
   "execution_count": 2,
   "metadata": {},
   "outputs": [],
   "source": [
    "import numpy as np\n",
    "import pandas as pd\n",
    "import matplotlib.pyplot as plt\n",
    "import matplotlib.dates as mdt"
   ]
  },
  {
   "cell_type": "code",
   "execution_count": 5,
   "metadata": {},
   "outputs": [
    {
     "name": "stdout",
     "output_type": "stream",
     "text": [
      "2025.722\n",
      "-181.7542\n"
     ]
    }
   ],
   "source": [
    "def load_pow():\n",
    "    df = pd.read_csv('./data/pv_power.csv')\n",
    "    df['time'] = pd.to_datetime(df['Unnamed: 0'].str.slice(stop=-6))\n",
    "    df = df[['time', 'VALUE']]\n",
    "    df.rename(columns={'VALUE' : 'power'}, inplace=True)\n",
    "    mean_max_power = df.groupby(df['time'].dt.date)['power'].max().mean()\n",
    "    df['power'] = df['power'] / mean_max_power * 0.35 # MW\n",
    "    return df\n",
    "\n",
    "def load_prices():\n",
    "    df = pd.read_csv('./data/HOLLISTR_1_N101.csv')\n",
    "    df = df[df['LMP_TYPE'] == 'LMP']\n",
    "    df['time'] = pd.to_datetime(df['INTERVALSTARTTIME_GMT'].str.slice(stop=-6))\n",
    "    df = df[['time', 'MW']]\n",
    "    df.rename(columns={'MW' : 'price'}, inplace=True)\n",
    "    return df\n",
    "\n",
    "pwr_df = load_pow()\n",
    "price_df = load_prices()\n",
    "\n",
    "dates = pwr_df['time'].dt.date.unique()\n"
   ]
  },
  {
   "cell_type": "code",
   "execution_count": 4,
   "metadata": {},
   "outputs": [],
   "source": [
    "df = pd.merge(pwr_df, price_df, on='time')\n",
    "df.to_parquet('./data/power_price.parquet')"
   ]
  },
  {
   "cell_type": "code",
   "execution_count": null,
   "metadata": {},
   "outputs": [],
   "source": []
  }
 ],
 "metadata": {
  "kernelspec": {
   "display_name": "Python 3",
   "language": "python",
   "name": "python3"
  },
  "language_info": {
   "codemirror_mode": {
    "name": "ipython",
    "version": 3
   },
   "file_extension": ".py",
   "mimetype": "text/x-python",
   "name": "python",
   "nbconvert_exporter": "python",
   "pygments_lexer": "ipython3",
   "version": "3.10.6"
  },
  "orig_nbformat": 4
 },
 "nbformat": 4,
 "nbformat_minor": 2
}
