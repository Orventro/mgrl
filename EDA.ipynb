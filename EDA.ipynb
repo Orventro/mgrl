{
 "cells": [
  {
   "cell_type": "code",
   "execution_count": 2,
   "metadata": {},
   "outputs": [],
   "source": [
    "import numpy as np\n",
    "from tqdm import tqdm\n",
    "import pandas as pd\n",
    "import matplotlib.pyplot as plt\n",
    "from prophet import Prophet\n",
    "from datetime import datetime, timedelta, time\n",
    "from scipy.interpolate import interp1d\n",
    "from scipy.optimize import minimize\n",
    "from statsmodels.nonparametric.smoothers_lowess import lowess"
   ]
  },
  {
   "cell_type": "code",
   "execution_count": 18,
   "metadata": {},
   "outputs": [],
   "source": [
    "holl = pd.read_csv(\"data/HOLLISTR_1_N101_DAM.csv\")\n",
    "holl = holl[holl['LMP_TYPE'] == 'MCE']\n",
    "holl.drop(columns=holl.columns[holl.nunique() == 1], inplace=True)\n",
    "holl['INTERVALSTARTTIME_GMT'] = pd.to_datetime(holl['INTERVALENDTIME_GMT'].str.slice(0, 19))\n",
    "holl.set_index('INTERVALSTARTTIME_GMT', inplace=True)\n",
    "\n",
    "power = pd.read_csv(\"data/pv_power.csv\", names=[\"ds\", \"y\"], header=1)\n",
    "power['ds'] = pd.to_datetime(power['ds'].str.slice(0, 19))\n",
    "power = power[power['ds'].dt.day < power['ds'].dt.day.max()]\n",
    "\n"
   ]
  },
  {
   "cell_type": "code",
   "execution_count": 20,
   "metadata": {},
   "outputs": [
    {
     "data": {
      "text/html": [
       "<div>\n",
       "<style scoped>\n",
       "    .dataframe tbody tr th:only-of-type {\n",
       "        vertical-align: middle;\n",
       "    }\n",
       "\n",
       "    .dataframe tbody tr th {\n",
       "        vertical-align: top;\n",
       "    }\n",
       "\n",
       "    .dataframe thead th {\n",
       "        text-align: right;\n",
       "    }\n",
       "</style>\n",
       "<table border=\"1\" class=\"dataframe\">\n",
       "  <thead>\n",
       "    <tr style=\"text-align: right;\">\n",
       "      <th></th>\n",
       "      <th>INTERVALENDTIME_GMT</th>\n",
       "      <th>OPR_DT</th>\n",
       "      <th>OPR_HR</th>\n",
       "      <th>MW</th>\n",
       "      <th>GROUP</th>\n",
       "    </tr>\n",
       "    <tr>\n",
       "      <th>INTERVALSTARTTIME_GMT</th>\n",
       "      <th></th>\n",
       "      <th></th>\n",
       "      <th></th>\n",
       "      <th></th>\n",
       "      <th></th>\n",
       "    </tr>\n",
       "  </thead>\n",
       "  <tbody>\n",
       "    <tr>\n",
       "      <th>2022-03-20 01:00:00</th>\n",
       "      <td>2022-03-20T01:00:00-00:00</td>\n",
       "      <td>2022-03-19</td>\n",
       "      <td>18</td>\n",
       "      <td>47.24546</td>\n",
       "      <td>3</td>\n",
       "    </tr>\n",
       "    <tr>\n",
       "      <th>2022-03-20 02:00:00</th>\n",
       "      <td>2022-03-20T02:00:00-00:00</td>\n",
       "      <td>2022-03-19</td>\n",
       "      <td>19</td>\n",
       "      <td>67.55730</td>\n",
       "      <td>3</td>\n",
       "    </tr>\n",
       "    <tr>\n",
       "      <th>2022-03-20 03:00:00</th>\n",
       "      <td>2022-03-20T03:00:00-00:00</td>\n",
       "      <td>2022-03-19</td>\n",
       "      <td>20</td>\n",
       "      <td>82.40015</td>\n",
       "      <td>3</td>\n",
       "    </tr>\n",
       "    <tr>\n",
       "      <th>2022-03-20 04:00:00</th>\n",
       "      <td>2022-03-20T04:00:00-00:00</td>\n",
       "      <td>2022-03-19</td>\n",
       "      <td>21</td>\n",
       "      <td>74.57435</td>\n",
       "      <td>3</td>\n",
       "    </tr>\n",
       "    <tr>\n",
       "      <th>2022-03-20 05:00:00</th>\n",
       "      <td>2022-03-20T05:00:00-00:00</td>\n",
       "      <td>2022-03-19</td>\n",
       "      <td>22</td>\n",
       "      <td>63.45887</td>\n",
       "      <td>3</td>\n",
       "    </tr>\n",
       "    <tr>\n",
       "      <th>...</th>\n",
       "      <td>...</td>\n",
       "      <td>...</td>\n",
       "      <td>...</td>\n",
       "      <td>...</td>\n",
       "      <td>...</td>\n",
       "    </tr>\n",
       "    <tr>\n",
       "      <th>2023-03-19 20:00:00</th>\n",
       "      <td>2023-03-19T20:00:00-00:00</td>\n",
       "      <td>2023-03-19</td>\n",
       "      <td>13</td>\n",
       "      <td>40.84036</td>\n",
       "      <td>8</td>\n",
       "    </tr>\n",
       "    <tr>\n",
       "      <th>2023-03-19 21:00:00</th>\n",
       "      <td>2023-03-19T21:00:00-00:00</td>\n",
       "      <td>2023-03-19</td>\n",
       "      <td>14</td>\n",
       "      <td>39.08205</td>\n",
       "      <td>8</td>\n",
       "    </tr>\n",
       "    <tr>\n",
       "      <th>2023-03-19 22:00:00</th>\n",
       "      <td>2023-03-19T22:00:00-00:00</td>\n",
       "      <td>2023-03-19</td>\n",
       "      <td>15</td>\n",
       "      <td>38.35207</td>\n",
       "      <td>8</td>\n",
       "    </tr>\n",
       "    <tr>\n",
       "      <th>2023-03-19 23:00:00</th>\n",
       "      <td>2023-03-19T23:00:00-00:00</td>\n",
       "      <td>2023-03-19</td>\n",
       "      <td>16</td>\n",
       "      <td>45.52277</td>\n",
       "      <td>8</td>\n",
       "    </tr>\n",
       "    <tr>\n",
       "      <th>2023-03-20 00:00:00</th>\n",
       "      <td>2023-03-20T00:00:00-00:00</td>\n",
       "      <td>2023-03-19</td>\n",
       "      <td>17</td>\n",
       "      <td>40.37573</td>\n",
       "      <td>8</td>\n",
       "    </tr>\n",
       "  </tbody>\n",
       "</table>\n",
       "<p>8760 rows × 5 columns</p>\n",
       "</div>"
      ],
      "text/plain": [
       "                             INTERVALENDTIME_GMT      OPR_DT  OPR_HR  \\\n",
       "INTERVALSTARTTIME_GMT                                                  \n",
       "2022-03-20 01:00:00    2022-03-20T01:00:00-00:00  2022-03-19      18   \n",
       "2022-03-20 02:00:00    2022-03-20T02:00:00-00:00  2022-03-19      19   \n",
       "2022-03-20 03:00:00    2022-03-20T03:00:00-00:00  2022-03-19      20   \n",
       "2022-03-20 04:00:00    2022-03-20T04:00:00-00:00  2022-03-19      21   \n",
       "2022-03-20 05:00:00    2022-03-20T05:00:00-00:00  2022-03-19      22   \n",
       "...                                          ...         ...     ...   \n",
       "2023-03-19 20:00:00    2023-03-19T20:00:00-00:00  2023-03-19      13   \n",
       "2023-03-19 21:00:00    2023-03-19T21:00:00-00:00  2023-03-19      14   \n",
       "2023-03-19 22:00:00    2023-03-19T22:00:00-00:00  2023-03-19      15   \n",
       "2023-03-19 23:00:00    2023-03-19T23:00:00-00:00  2023-03-19      16   \n",
       "2023-03-20 00:00:00    2023-03-20T00:00:00-00:00  2023-03-19      17   \n",
       "\n",
       "                             MW  GROUP  \n",
       "INTERVALSTARTTIME_GMT                   \n",
       "2022-03-20 01:00:00    47.24546      3  \n",
       "2022-03-20 02:00:00    67.55730      3  \n",
       "2022-03-20 03:00:00    82.40015      3  \n",
       "2022-03-20 04:00:00    74.57435      3  \n",
       "2022-03-20 05:00:00    63.45887      3  \n",
       "...                         ...    ...  \n",
       "2023-03-19 20:00:00    40.84036      8  \n",
       "2023-03-19 21:00:00    39.08205      8  \n",
       "2023-03-19 22:00:00    38.35207      8  \n",
       "2023-03-19 23:00:00    45.52277      8  \n",
       "2023-03-20 00:00:00    40.37573      8  \n",
       "\n",
       "[8760 rows x 5 columns]"
      ]
     },
     "execution_count": 20,
     "metadata": {},
     "output_type": "execute_result"
    }
   ],
   "source": [
    "holl.sort_index()"
   ]
  },
  {
   "cell_type": "code",
   "execution_count": 11,
   "metadata": {},
   "outputs": [
    {
     "data": {
      "text/html": [
       "<div>\n",
       "<style scoped>\n",
       "    .dataframe tbody tr th:only-of-type {\n",
       "        vertical-align: middle;\n",
       "    }\n",
       "\n",
       "    .dataframe tbody tr th {\n",
       "        vertical-align: top;\n",
       "    }\n",
       "\n",
       "    .dataframe thead th {\n",
       "        text-align: right;\n",
       "    }\n",
       "</style>\n",
       "<table border=\"1\" class=\"dataframe\">\n",
       "  <thead>\n",
       "    <tr style=\"text-align: right;\">\n",
       "      <th></th>\n",
       "      <th>INTERVALSTARTTIME_GMT</th>\n",
       "      <th>INTERVALENDTIME_GMT</th>\n",
       "      <th>OPR_DT</th>\n",
       "      <th>OPR_HR</th>\n",
       "      <th>LMP_TYPE</th>\n",
       "      <th>XML_DATA_ITEM</th>\n",
       "      <th>MW</th>\n",
       "      <th>GROUP</th>\n",
       "    </tr>\n",
       "  </thead>\n",
       "  <tbody>\n",
       "    <tr>\n",
       "      <th>0</th>\n",
       "      <td>2022-03-20T00:00:00-00:00</td>\n",
       "      <td>2022-03-20T01:00:00-00:00</td>\n",
       "      <td>2022-03-19</td>\n",
       "      <td>18</td>\n",
       "      <td>LMP</td>\n",
       "      <td>LMP_PRC</td>\n",
       "      <td>50.11810</td>\n",
       "      <td>1</td>\n",
       "    </tr>\n",
       "    <tr>\n",
       "      <th>1</th>\n",
       "      <td>2022-03-20T03:00:00-00:00</td>\n",
       "      <td>2022-03-20T04:00:00-00:00</td>\n",
       "      <td>2022-03-19</td>\n",
       "      <td>21</td>\n",
       "      <td>LMP</td>\n",
       "      <td>LMP_PRC</td>\n",
       "      <td>77.15462</td>\n",
       "      <td>1</td>\n",
       "    </tr>\n",
       "    <tr>\n",
       "      <th>2</th>\n",
       "      <td>2022-03-20T02:00:00-00:00</td>\n",
       "      <td>2022-03-20T03:00:00-00:00</td>\n",
       "      <td>2022-03-19</td>\n",
       "      <td>20</td>\n",
       "      <td>LMP</td>\n",
       "      <td>LMP_PRC</td>\n",
       "      <td>84.84744</td>\n",
       "      <td>1</td>\n",
       "    </tr>\n",
       "    <tr>\n",
       "      <th>3</th>\n",
       "      <td>2022-03-20T06:00:00-00:00</td>\n",
       "      <td>2022-03-20T07:00:00-00:00</td>\n",
       "      <td>2022-03-19</td>\n",
       "      <td>24</td>\n",
       "      <td>LMP</td>\n",
       "      <td>LMP_PRC</td>\n",
       "      <td>51.64010</td>\n",
       "      <td>1</td>\n",
       "    </tr>\n",
       "    <tr>\n",
       "      <th>4</th>\n",
       "      <td>2022-03-20T01:00:00-00:00</td>\n",
       "      <td>2022-03-20T02:00:00-00:00</td>\n",
       "      <td>2022-03-19</td>\n",
       "      <td>19</td>\n",
       "      <td>LMP</td>\n",
       "      <td>LMP_PRC</td>\n",
       "      <td>69.66509</td>\n",
       "      <td>1</td>\n",
       "    </tr>\n",
       "    <tr>\n",
       "      <th>...</th>\n",
       "      <td>...</td>\n",
       "      <td>...</td>\n",
       "      <td>...</td>\n",
       "      <td>...</td>\n",
       "      <td>...</td>\n",
       "      <td>...</td>\n",
       "      <td>...</td>\n",
       "      <td>...</td>\n",
       "    </tr>\n",
       "    <tr>\n",
       "      <th>43727</th>\n",
       "      <td>2023-03-19T11:00:00-00:00</td>\n",
       "      <td>2023-03-19T12:00:00-00:00</td>\n",
       "      <td>2023-03-19</td>\n",
       "      <td>5</td>\n",
       "      <td>LMP</td>\n",
       "      <td>LMP_PRC</td>\n",
       "      <td>60.81856</td>\n",
       "      <td>6</td>\n",
       "    </tr>\n",
       "    <tr>\n",
       "      <th>43728</th>\n",
       "      <td>2023-03-19T19:00:00-00:00</td>\n",
       "      <td>2023-03-19T20:00:00-00:00</td>\n",
       "      <td>2023-03-19</td>\n",
       "      <td>13</td>\n",
       "      <td>LMP</td>\n",
       "      <td>LMP_PRC</td>\n",
       "      <td>65.73788</td>\n",
       "      <td>6</td>\n",
       "    </tr>\n",
       "    <tr>\n",
       "      <th>43729</th>\n",
       "      <td>2023-03-19T10:00:00-00:00</td>\n",
       "      <td>2023-03-19T11:00:00-00:00</td>\n",
       "      <td>2023-03-19</td>\n",
       "      <td>4</td>\n",
       "      <td>LMP</td>\n",
       "      <td>LMP_PRC</td>\n",
       "      <td>60.73655</td>\n",
       "      <td>6</td>\n",
       "    </tr>\n",
       "    <tr>\n",
       "      <th>43730</th>\n",
       "      <td>2023-03-19T20:00:00-00:00</td>\n",
       "      <td>2023-03-19T21:00:00-00:00</td>\n",
       "      <td>2023-03-19</td>\n",
       "      <td>14</td>\n",
       "      <td>LMP</td>\n",
       "      <td>LMP_PRC</td>\n",
       "      <td>64.04538</td>\n",
       "      <td>6</td>\n",
       "    </tr>\n",
       "    <tr>\n",
       "      <th>43731</th>\n",
       "      <td>2023-03-19T15:00:00-00:00</td>\n",
       "      <td>2023-03-19T16:00:00-00:00</td>\n",
       "      <td>2023-03-19</td>\n",
       "      <td>9</td>\n",
       "      <td>LMP</td>\n",
       "      <td>LMP_PRC</td>\n",
       "      <td>64.55266</td>\n",
       "      <td>6</td>\n",
       "    </tr>\n",
       "  </tbody>\n",
       "</table>\n",
       "<p>8760 rows × 8 columns</p>\n",
       "</div>"
      ],
      "text/plain": [
       "           INTERVALSTARTTIME_GMT        INTERVALENDTIME_GMT      OPR_DT  \\\n",
       "0      2022-03-20T00:00:00-00:00  2022-03-20T01:00:00-00:00  2022-03-19   \n",
       "1      2022-03-20T03:00:00-00:00  2022-03-20T04:00:00-00:00  2022-03-19   \n",
       "2      2022-03-20T02:00:00-00:00  2022-03-20T03:00:00-00:00  2022-03-19   \n",
       "3      2022-03-20T06:00:00-00:00  2022-03-20T07:00:00-00:00  2022-03-19   \n",
       "4      2022-03-20T01:00:00-00:00  2022-03-20T02:00:00-00:00  2022-03-19   \n",
       "...                          ...                        ...         ...   \n",
       "43727  2023-03-19T11:00:00-00:00  2023-03-19T12:00:00-00:00  2023-03-19   \n",
       "43728  2023-03-19T19:00:00-00:00  2023-03-19T20:00:00-00:00  2023-03-19   \n",
       "43729  2023-03-19T10:00:00-00:00  2023-03-19T11:00:00-00:00  2023-03-19   \n",
       "43730  2023-03-19T20:00:00-00:00  2023-03-19T21:00:00-00:00  2023-03-19   \n",
       "43731  2023-03-19T15:00:00-00:00  2023-03-19T16:00:00-00:00  2023-03-19   \n",
       "\n",
       "       OPR_HR LMP_TYPE XML_DATA_ITEM        MW  GROUP  \n",
       "0          18      LMP       LMP_PRC  50.11810      1  \n",
       "1          21      LMP       LMP_PRC  77.15462      1  \n",
       "2          20      LMP       LMP_PRC  84.84744      1  \n",
       "3          24      LMP       LMP_PRC  51.64010      1  \n",
       "4          19      LMP       LMP_PRC  69.66509      1  \n",
       "...       ...      ...           ...       ...    ...  \n",
       "43727       5      LMP       LMP_PRC  60.81856      6  \n",
       "43728      13      LMP       LMP_PRC  65.73788      6  \n",
       "43729       4      LMP       LMP_PRC  60.73655      6  \n",
       "43730      14      LMP       LMP_PRC  64.04538      6  \n",
       "43731       9      LMP       LMP_PRC  64.55266      6  \n",
       "\n",
       "[8760 rows x 8 columns]"
      ]
     },
     "execution_count": 11,
     "metadata": {},
     "output_type": "execute_result"
    }
   ],
   "source": [
    "holl[holl['LMP_TYPE'] == 'LMP']"
   ]
  },
  {
   "cell_type": "code",
   "execution_count": 5,
   "metadata": {},
   "outputs": [
    {
     "data": {
      "text/plain": [
       "array(['LMP', 'MCC', 'MCE', 'MCL', 'MGHG'], dtype=object)"
      ]
     },
     "execution_count": 5,
     "metadata": {},
     "output_type": "execute_result"
    }
   ],
   "source": [
    "holl['LMP_TYPE'].unique()"
   ]
  },
  {
   "cell_type": "code",
   "execution_count": 164,
   "metadata": {},
   "outputs": [
    {
     "data": {
      "text/html": [
       "<div>\n",
       "<style scoped>\n",
       "    .dataframe tbody tr th:only-of-type {\n",
       "        vertical-align: middle;\n",
       "    }\n",
       "\n",
       "    .dataframe tbody tr th {\n",
       "        vertical-align: top;\n",
       "    }\n",
       "\n",
       "    .dataframe thead th {\n",
       "        text-align: right;\n",
       "    }\n",
       "</style>\n",
       "<table border=\"1\" class=\"dataframe\">\n",
       "  <thead>\n",
       "    <tr style=\"text-align: right;\">\n",
       "      <th></th>\n",
       "      <th>INTERVALSTARTTIME_GMT</th>\n",
       "      <th>INTERVALENDTIME_GMT</th>\n",
       "      <th>OPR_DT</th>\n",
       "      <th>OPR_HR</th>\n",
       "      <th>LMP_TYPE</th>\n",
       "      <th>XML_DATA_ITEM</th>\n",
       "      <th>MW</th>\n",
       "      <th>OPR_INTERVAL</th>\n",
       "      <th>GROUP</th>\n",
       "    </tr>\n",
       "  </thead>\n",
       "  <tbody>\n",
       "    <tr>\n",
       "      <th>0</th>\n",
       "      <td>2022-03-20T00:00:00-00:00</td>\n",
       "      <td>2022-03-20T00:05:00-00:00</td>\n",
       "      <td>2022-03-19</td>\n",
       "      <td>18</td>\n",
       "      <td>MCC</td>\n",
       "      <td>LMP_CONG_PRC</td>\n",
       "      <td>100.46894</td>\n",
       "      <td>1</td>\n",
       "      <td>1</td>\n",
       "    </tr>\n",
       "    <tr>\n",
       "      <th>84</th>\n",
       "      <td>2022-03-20T00:00:00-00:00</td>\n",
       "      <td>2022-03-20T00:05:00-00:00</td>\n",
       "      <td>2022-03-19</td>\n",
       "      <td>18</td>\n",
       "      <td>MCE</td>\n",
       "      <td>LMP_ENE_PRC</td>\n",
       "      <td>42.60554</td>\n",
       "      <td>1</td>\n",
       "      <td>2</td>\n",
       "    </tr>\n",
       "    <tr>\n",
       "      <th>168</th>\n",
       "      <td>2022-03-20T00:00:00-00:00</td>\n",
       "      <td>2022-03-20T00:05:00-00:00</td>\n",
       "      <td>2022-03-19</td>\n",
       "      <td>18</td>\n",
       "      <td>MCL</td>\n",
       "      <td>LMP_LOSS_PRC</td>\n",
       "      <td>1.18017</td>\n",
       "      <td>1</td>\n",
       "      <td>3</td>\n",
       "    </tr>\n",
       "    <tr>\n",
       "      <th>252</th>\n",
       "      <td>2022-03-20T00:00:00-00:00</td>\n",
       "      <td>2022-03-20T00:05:00-00:00</td>\n",
       "      <td>2022-03-19</td>\n",
       "      <td>18</td>\n",
       "      <td>LMP</td>\n",
       "      <td>LMP_PRC</td>\n",
       "      <td>144.25465</td>\n",
       "      <td>1</td>\n",
       "      <td>4</td>\n",
       "    </tr>\n",
       "  </tbody>\n",
       "</table>\n",
       "</div>"
      ],
      "text/plain": [
       "         INTERVALSTARTTIME_GMT        INTERVALENDTIME_GMT      OPR_DT  OPR_HR  \\\n",
       "0    2022-03-20T00:00:00-00:00  2022-03-20T00:05:00-00:00  2022-03-19      18   \n",
       "84   2022-03-20T00:00:00-00:00  2022-03-20T00:05:00-00:00  2022-03-19      18   \n",
       "168  2022-03-20T00:00:00-00:00  2022-03-20T00:05:00-00:00  2022-03-19      18   \n",
       "252  2022-03-20T00:00:00-00:00  2022-03-20T00:05:00-00:00  2022-03-19      18   \n",
       "\n",
       "    LMP_TYPE XML_DATA_ITEM         MW  OPR_INTERVAL  GROUP  \n",
       "0        MCC  LMP_CONG_PRC  100.46894             1      1  \n",
       "84       MCE   LMP_ENE_PRC   42.60554             1      2  \n",
       "168      MCL  LMP_LOSS_PRC    1.18017             1      3  \n",
       "252      LMP       LMP_PRC  144.25465             1      4  "
      ]
     },
     "execution_count": 164,
     "metadata": {},
     "output_type": "execute_result"
    }
   ],
   "source": [
    "holl[holl['INTERVALSTARTTIME_GMT'] == '2022-03-20T00:00:00-00:00']"
   ]
  },
  {
   "cell_type": "code",
   "execution_count": 161,
   "metadata": {},
   "outputs": [
    {
     "name": "stdout",
     "output_type": "stream",
     "text": [
      "['2022-03-20T00:00:00-00:00' '2022-03-20T00:05:00-00:00'\n",
      " '2022-03-20T00:10:00-00:00' '2022-03-20T00:15:00-00:00'\n",
      " '2022-03-20T00:20:00-00:00' '2022-03-20T00:25:00-00:00'\n",
      " '2022-03-20T00:30:00-00:00' '2022-03-20T00:35:00-00:00'\n",
      " '2022-03-20T00:40:00-00:00' '2022-03-20T00:45:00-00:00']\n",
      "['2022-03-20T00:05:00-00:00' '2022-03-20T00:10:00-00:00'\n",
      " '2022-03-20T00:15:00-00:00' '2022-03-20T00:20:00-00:00'\n",
      " '2022-03-20T00:25:00-00:00' '2022-03-20T00:30:00-00:00'\n",
      " '2022-03-20T00:35:00-00:00' '2022-03-20T00:40:00-00:00'\n",
      " '2022-03-20T00:45:00-00:00' '2022-03-20T00:50:00-00:00']\n",
      "['2022-03-19' '2022-03-20' '2022-03-21' '2022-03-22' '2022-03-23'\n",
      " '2022-03-24' '2022-03-25' '2022-03-26' '2022-03-27' '2022-03-28']\n",
      "[18 19 20 21 22 23 24  1  2  3]\n",
      "['MCC' 'MCE' 'MCL' 'LMP']\n",
      "['LMP_CONG_PRC' 'LMP_ENE_PRC' 'LMP_LOSS_PRC' 'LMP_PRC']\n",
      "[100.46894  92.47924  94.32418 129.84532 126.31642 125.07351 112.17721\n",
      " 104.49654 106.20034 306.9165 ]\n",
      "[ 1  2  3  4  5  6  7  8  9 10]\n",
      "[1 2 3 4 5 6 7 8]\n"
     ]
    }
   ],
   "source": [
    "for c in holl.columns:\n",
    "    print(holl[c].unique()[:10])"
   ]
  },
  {
   "cell_type": "code",
   "execution_count": 3,
   "metadata": {},
   "outputs": [
    {
     "name": "stderr",
     "output_type": "stream",
     "text": [
      "15:15:16 - cmdstanpy - INFO - Chain [1] start processing\n",
      "15:15:16 - cmdstanpy - INFO - Chain [1] done processing\n"
     ]
    },
    {
     "data": {
      "image/png": "[encoded data removed]",
      "text/plain": [
       "<Figure size 640x480 with 1 Axes>"
      ]
     },
     "metadata": {},
     "output_type": "display_data"
    }
   ],
   "source": [
    "pmd = power.groupby(power['ds'].dt.date)[['y']].mean().reset_index()\n",
    "pmd['ds'] = pd.to_datetime(pmd['ds'])\n",
    "pmd_smooth = lowess(pmd['y'], pmd['ds'].dt.day_of_year.to_numpy(), frac=0.03)[:,1]\n",
    "diff = np.abs(pmd_smooth - pmd['y'])\n",
    "pmd['y'] = np.where(diff < 0.01, pmd['y'], pmd_smooth)\n",
    "\n",
    "model = Prophet(yearly_seasonality=True, growth='flat')\n",
    "model.fit(pmd.iloc[:-60])\n",
    "future = pd.DataFrame(data=pd.date_range(start=datetime(2022, 1, 1), periods=365, freq='D'), columns=['ds'])\n",
    "pred_day = model.predict(future)['yhat'].to_numpy()\n",
    "plt.plot(pmd['ds'], pmd['y'])\n",
    "plt.plot(future['ds'], pred_day)\n",
    "plt.show()"
   ]
  },
  {
   "cell_type": "code",
   "execution_count": 28,
   "metadata": {},
   "outputs": [],
   "source": [
    "day_avg = power.groupby(power['ds'].dt.date)['y'].mean()\n",
    "power['yday_avg'] = day_avg.loc[power['ds'].dt.date].to_numpy()\n",
    "power['y_relative'] = power['y'] / power['yday_avg']\n",
    "avg_day = power.groupby(power['ds'].dt.hour*60 + power['ds'].dt.minute)\\\n",
    "                            ['y_relative'].mean().to_numpy()\n",
    "y = (avg_day[None,:] * day_avg.to_numpy()[:,None]).flatten()\n",
    "\n",
    "# days = future['ds'].to_numpy()[:,None] \n",
    "days = power['ds'].dt.date.unique()\n",
    "days = np.array([datetime.combine(d, time()) for d in days])[:,None]\n",
    "minutes = np.array([timedelta(minutes=m) for m in range(0, 1440, 5)])[None,:]\n",
    "t = (days + minutes).flatten()\n",
    "\n",
    "pred = pd.DataFrame({'ds' : t, 'y' : y})"
   ]
  },
  {
   "cell_type": "code",
   "execution_count": 35,
   "metadata": {},
   "outputs": [],
   "source": [
    "power['date'] = power['ds'].dt.date"
   ]
  },
  {
   "cell_type": "code",
   "execution_count": 37,
   "metadata": {},
   "outputs": [],
   "source": [
    "power.set_index('date', inplace=True)"
   ]
  },
  {
   "cell_type": "code",
   "execution_count": 155,
   "metadata": {},
   "outputs": [],
   "source": [
    "day0 = power.loc[power.index[300]]\n",
    "day0y = day0['y_relative'].to_numpy()\n",
    "day0x = ((day0['ds'].dt.hour*60 + day0['ds'].dt.minute)//5).to_numpy()\n",
    "day0 = interp1d(day0x, day0y, fill_value='extrapolate')\n",
    "\n",
    "def day_diff(x, y, shift, scale):\n",
    "    return ((day0((day0x-shift)*scale)*scale - y)**2).mean()\n",
    "\n",
    "def get_pars(y):\n",
    "    return minimize(lambda arg: day_diff(x, y, *arg), x0=(0,1), bounds=[(-100, 100), (0.5, 2)])\n",
    "\n",
    "days = power.index.unique()\n",
    "day1 = power.loc[days[0]]\n",
    "day1x = ((day1['ds'].dt.hour*60 + day1['ds'].dt.minute)//5).to_numpy()\n",
    "day1y = day1['y_relative'].to_numpy()\n",
    "arr = np.a()\n",
    "# get_pars(day1x, day1y)"
   ]
  },
  {
   "cell_type": "code",
   "execution_count": 156,
   "metadata": {},
   "outputs": [
    {
     "data": {
      "text/html": [
       "<div>\n",
       "<style scoped>\n",
       "    .dataframe tbody tr th:only-of-type {\n",
       "        vertical-align: middle;\n",
       "    }\n",
       "\n",
       "    .dataframe tbody tr th {\n",
       "        vertical-align: top;\n",
       "    }\n",
       "\n",
       "    .dataframe thead th {\n",
       "        text-align: right;\n",
       "    }\n",
       "</style>\n",
       "<table border=\"1\" class=\"dataframe\">\n",
       "  <thead>\n",
       "    <tr style=\"text-align: right;\">\n",
       "      <th></th>\n",
       "      <th>x</th>\n",
       "      <th>y</th>\n",
       "      <th>x1</th>\n",
       "    </tr>\n",
       "  </thead>\n",
       "  <tbody>\n",
       "    <tr>\n",
       "      <th>0</th>\n",
       "      <td>1</td>\n",
       "      <td>0.0</td>\n",
       "      <td>0</td>\n",
       "    </tr>\n",
       "    <tr>\n",
       "      <th>1</th>\n",
       "      <td>2</td>\n",
       "      <td>0.0</td>\n",
       "      <td>1</td>\n",
       "    </tr>\n",
       "    <tr>\n",
       "      <th>2</th>\n",
       "      <td>3</td>\n",
       "      <td>0.0</td>\n",
       "      <td>2</td>\n",
       "    </tr>\n",
       "    <tr>\n",
       "      <th>3</th>\n",
       "      <td>4</td>\n",
       "      <td>0.0</td>\n",
       "      <td>3</td>\n",
       "    </tr>\n",
       "    <tr>\n",
       "      <th>4</th>\n",
       "      <td>5</td>\n",
       "      <td>0.0</td>\n",
       "      <td>4</td>\n",
       "    </tr>\n",
       "    <tr>\n",
       "      <th>...</th>\n",
       "      <td>...</td>\n",
       "      <td>...</td>\n",
       "      <td>...</td>\n",
       "    </tr>\n",
       "    <tr>\n",
       "      <th>282</th>\n",
       "      <td>283</td>\n",
       "      <td>0.0</td>\n",
       "      <td>282</td>\n",
       "    </tr>\n",
       "    <tr>\n",
       "      <th>283</th>\n",
       "      <td>284</td>\n",
       "      <td>0.0</td>\n",
       "      <td>283</td>\n",
       "    </tr>\n",
       "    <tr>\n",
       "      <th>284</th>\n",
       "      <td>285</td>\n",
       "      <td>0.0</td>\n",
       "      <td>284</td>\n",
       "    </tr>\n",
       "    <tr>\n",
       "      <th>285</th>\n",
       "      <td>286</td>\n",
       "      <td>0.0</td>\n",
       "      <td>285</td>\n",
       "    </tr>\n",
       "    <tr>\n",
       "      <th>286</th>\n",
       "      <td>287</td>\n",
       "      <td>0.0</td>\n",
       "      <td>286</td>\n",
       "    </tr>\n",
       "  </tbody>\n",
       "</table>\n",
       "<p>287 rows × 3 columns</p>\n",
       "</div>"
      ],
      "text/plain": [
       "       x    y   x1\n",
       "0      1  0.0    0\n",
       "1      2  0.0    1\n",
       "2      3  0.0    2\n",
       "3      4  0.0    3\n",
       "4      5  0.0    4\n",
       "..   ...  ...  ...\n",
       "282  283  0.0  282\n",
       "283  284  0.0  283\n",
       "284  285  0.0  284\n",
       "285  286  0.0  285\n",
       "286  287  0.0  286\n",
       "\n",
       "[287 rows x 3 columns]"
      ]
     },
     "execution_count": 156,
     "metadata": {},
     "output_type": "execute_result"
    }
   ],
   "source": [
    "df"
   ]
  },
  {
   "cell_type": "code",
   "execution_count": 133,
   "metadata": {},
   "outputs": [
    {
     "data": {
      "text/plain": [
       "0.5176535081310252"
      ]
     },
     "execution_count": 133,
     "metadata": {},
     "output_type": "execute_result"
    }
   ],
   "source": [
    "day_diff(day1x, day1y, 2.515e+01,  9.271e-01)"
   ]
  },
  {
   "cell_type": "code",
   "execution_count": 144,
   "metadata": {},
   "outputs": [
    {
     "data": {
      "text/plain": [
       "array([  0,   1,   2,   3,   4,   5,   6,   7,   8,   9,  10,  11,  12,\n",
       "        13,  14,  15,  16,  17,  18,  19,  20,  21,  22,  23,  24,  25,\n",
       "        26,  27,  28,  29,  30,  31,  32,  33,  34,  35,  36,  37,  38,\n",
       "        39,  40,  41,  42,  43,  44,  45,  46,  47,  48,  49,  50,  51,\n",
       "        52,  53,  54,  55,  56,  57,  58,  59,  60,  61,  62,  63,  64,\n",
       "        65,  66,  67,  68,  69,  70,  71,  72,  73,  74,  75,  76,  77,\n",
       "        78,  79,  80,  81,  82,  83,  84,  85,  86,  87,  88,  89,  90,\n",
       "        91,  92,  93,  94,  95,  96,  97,  98,  99, 100, 101, 102, 103,\n",
       "       104, 105, 106, 107, 108, 109, 110, 111, 112, 113, 114, 115, 116,\n",
       "       117, 118, 119, 120, 121, 122, 123, 124, 125, 126, 127, 128, 129,\n",
       "       130, 131, 132, 133, 134, 135, 136, 137, 138, 139, 140, 141, 142,\n",
       "       143, 144, 145, 146, 147, 148, 149, 150, 151, 152, 153, 154, 155,\n",
       "       156, 157, 158, 159, 160, 161, 162, 163, 164, 165, 166, 167, 168,\n",
       "       169, 170, 171, 172, 173, 174, 175, 176, 177, 178, 179, 180, 181,\n",
       "       182, 183, 184, 185, 186, 187, 188, 189, 190, 191, 192, 193, 194,\n",
       "       195, 196, 197, 198, 199, 200, 201, 202, 203, 204, 205, 206, 207,\n",
       "       208, 209, 210, 211, 212, 213, 214, 215, 216, 217, 218, 219, 220,\n",
       "       221, 222, 223, 224, 225, 226, 227, 228, 229, 230, 231, 232, 233,\n",
       "       234, 235, 236, 237, 238, 239, 240, 241, 242, 243, 244, 245, 246,\n",
       "       247, 248, 249, 250, 251, 252, 253, 254, 255, 256, 257, 258, 259,\n",
       "       260, 261, 262, 263, 264, 265, 266, 267, 268, 269, 270, 271, 272,\n",
       "       273, 274, 275, 276, 277, 278, 279, 280, 281, 282, 283, 284, 285,\n",
       "       286, 287])"
      ]
     },
     "execution_count": 144,
     "metadata": {},
     "output_type": "execute_result"
    }
   ],
   "source": [
    "day1x"
   ]
  },
  {
   "cell_type": "code",
   "execution_count": 134,
   "metadata": {},
   "outputs": [
    {
     "data": {
      "text/plain": [
       "3.243639113676622"
      ]
     },
     "execution_count": 134,
     "metadata": {},
     "output_type": "execute_result"
    }
   ],
   "source": [
    "day_diff(day1x, day1y, -73,  0.64)"
   ]
  },
  {
   "cell_type": "code",
   "execution_count": 131,
   "metadata": {},
   "outputs": [
    {
     "data": {
      "image/png": "[encoded data removed]",
      "text/plain": [
       "<Figure size 640x480 with 1 Axes>"
      ]
     },
     "metadata": {},
     "output_type": "display_data"
    }
   ],
   "source": [
    "plt.plot(power.loc[power.index[300]]['y_relative'].to_numpy(), 'b')\n",
    "plt.plot(day1x, day1y, 'r')\n",
    "r[0] = -73\n",
    "r[1] = 0.64\n",
    "plt.plot(day1x, day0((day1x-r[0])*r[1])*r[1], '--k')\n",
    "plt.show()"
   ]
  },
  {
   "cell_type": "code",
   "execution_count": 49,
   "metadata": {},
   "outputs": [
    {
     "data": {
      "text/plain": [
       "<Figure size 640x480 with 0 Axes>"
      ]
     },
     "metadata": {},
     "output_type": "display_data"
    }
   ],
   "source": [
    "for i, d in enumerate(power.index.unique()):\n",
    "    df = power.loc[d]\n",
    "    y = df['y_relative']\n",
    "    x = df['ds'].dt.hour * 60 + df['ds'].dt.minute\n",
    "    plt.plot(x, y)\n",
    "    plt.savefig(f'./anim/{i}.png')\n",
    "    plt.clf()"
   ]
  },
  {
   "cell_type": "code",
   "execution_count": 33,
   "metadata": {},
   "outputs": [
    {
     "data": {
      "text/plain": [
       "[<matplotlib.lines.Line2D at 0x7fedc5535510>]"
      ]
     },
     "execution_count": 33,
     "metadata": {},
     "output_type": "execute_result"
    },
    {
     "data": {
      "image/png": "[encoded data removed]",
      "text/plain": [
       "<Figure size 640x480 with 1 Axes>"
      ]
     },
     "metadata": {},
     "output_type": "display_data"
    }
   ],
   "source": [
    "plt.plot(pred['y'], alpha=0.5)\n",
    "plt.plot(power['y'], alpha=0.5)"
   ]
  },
  {
   "cell_type": "code",
   "execution_count": 23,
   "metadata": {},
   "outputs": [
    {
     "data": {
      "text/plain": [
       "datetime.date(2022, 1, 1)"
      ]
     },
     "execution_count": 23,
     "metadata": {},
     "output_type": "execute_result"
    }
   ],
   "source": [
    "days[0,0] + timedelta(minutes=10)"
   ]
  },
  {
   "cell_type": "code",
   "execution_count": 13,
   "metadata": {},
   "outputs": [
    {
     "data": {
      "text/html": [
       "<div>\n",
       "<style scoped>\n",
       "    .dataframe tbody tr th:only-of-type {\n",
       "        vertical-align: middle;\n",
       "    }\n",
       "\n",
       "    .dataframe tbody tr th {\n",
       "        vertical-align: top;\n",
       "    }\n",
       "\n",
       "    .dataframe thead th {\n",
       "        text-align: right;\n",
       "    }\n",
       "</style>\n",
       "<table border=\"1\" class=\"dataframe\">\n",
       "  <thead>\n",
       "    <tr style=\"text-align: right;\">\n",
       "      <th></th>\n",
       "      <th>ds</th>\n",
       "      <th>y</th>\n",
       "      <th>yday_avg</th>\n",
       "      <th>y_relative</th>\n",
       "    </tr>\n",
       "  </thead>\n",
       "  <tbody>\n",
       "    <tr>\n",
       "      <th>0</th>\n",
       "      <td>2022-01-01 00:05:00</td>\n",
       "      <td>0.0</td>\n",
       "      <td>0.212075</td>\n",
       "      <td>0.0</td>\n",
       "    </tr>\n",
       "    <tr>\n",
       "      <th>1</th>\n",
       "      <td>2022-01-01 00:10:00</td>\n",
       "      <td>0.0</td>\n",
       "      <td>0.212075</td>\n",
       "      <td>0.0</td>\n",
       "    </tr>\n",
       "    <tr>\n",
       "      <th>2</th>\n",
       "      <td>2022-01-01 00:15:00</td>\n",
       "      <td>0.0</td>\n",
       "      <td>0.212075</td>\n",
       "      <td>0.0</td>\n",
       "    </tr>\n",
       "    <tr>\n",
       "      <th>3</th>\n",
       "      <td>2022-01-01 00:20:00</td>\n",
       "      <td>0.0</td>\n",
       "      <td>0.212075</td>\n",
       "      <td>0.0</td>\n",
       "    </tr>\n",
       "    <tr>\n",
       "      <th>4</th>\n",
       "      <td>2022-01-01 00:25:00</td>\n",
       "      <td>0.0</td>\n",
       "      <td>0.212075</td>\n",
       "      <td>0.0</td>\n",
       "    </tr>\n",
       "    <tr>\n",
       "      <th>...</th>\n",
       "      <td>...</td>\n",
       "      <td>...</td>\n",
       "      <td>...</td>\n",
       "      <td>...</td>\n",
       "    </tr>\n",
       "    <tr>\n",
       "      <th>104826</th>\n",
       "      <td>2022-12-30 23:35:00</td>\n",
       "      <td>0.0</td>\n",
       "      <td>0.210480</td>\n",
       "      <td>0.0</td>\n",
       "    </tr>\n",
       "    <tr>\n",
       "      <th>104827</th>\n",
       "      <td>2022-12-30 23:40:00</td>\n",
       "      <td>0.0</td>\n",
       "      <td>0.210480</td>\n",
       "      <td>0.0</td>\n",
       "    </tr>\n",
       "    <tr>\n",
       "      <th>104828</th>\n",
       "      <td>2022-12-30 23:45:00</td>\n",
       "      <td>0.0</td>\n",
       "      <td>0.210480</td>\n",
       "      <td>0.0</td>\n",
       "    </tr>\n",
       "    <tr>\n",
       "      <th>104829</th>\n",
       "      <td>2022-12-30 23:50:00</td>\n",
       "      <td>0.0</td>\n",
       "      <td>0.210480</td>\n",
       "      <td>0.0</td>\n",
       "    </tr>\n",
       "    <tr>\n",
       "      <th>104830</th>\n",
       "      <td>2022-12-30 23:55:00</td>\n",
       "      <td>0.0</td>\n",
       "      <td>0.210480</td>\n",
       "      <td>0.0</td>\n",
       "    </tr>\n",
       "  </tbody>\n",
       "</table>\n",
       "<p>103103 rows × 4 columns</p>\n",
       "</div>"
      ],
      "text/plain": [
       "                        ds    y  yday_avg  y_relative\n",
       "0      2022-01-01 00:05:00  0.0  0.212075         0.0\n",
       "1      2022-01-01 00:10:00  0.0  0.212075         0.0\n",
       "2      2022-01-01 00:15:00  0.0  0.212075         0.0\n",
       "3      2022-01-01 00:20:00  0.0  0.212075         0.0\n",
       "4      2022-01-01 00:25:00  0.0  0.212075         0.0\n",
       "...                    ...  ...       ...         ...\n",
       "104826 2022-12-30 23:35:00  0.0  0.210480         0.0\n",
       "104827 2022-12-30 23:40:00  0.0  0.210480         0.0\n",
       "104828 2022-12-30 23:45:00  0.0  0.210480         0.0\n",
       "104829 2022-12-30 23:50:00  0.0  0.210480         0.0\n",
       "104830 2022-12-30 23:55:00  0.0  0.210480         0.0\n",
       "\n",
       "[103103 rows x 4 columns]"
      ]
     },
     "execution_count": 13,
     "metadata": {},
     "output_type": "execute_result"
    }
   ],
   "source": [
    "power"
   ]
  },
  {
   "cell_type": "code",
   "execution_count": 212,
   "metadata": {},
   "outputs": [
    {
     "data": {
      "text/plain": [
       "numpy.timedelta64(0,'ns')"
      ]
     },
     "execution_count": 212,
     "metadata": {},
     "output_type": "execute_result"
    }
   ],
   "source": [
    "ppd_all.index.to_series().apply(lambda m: timedelta(minutes=m)).to_numpy()[0]"
   ]
  },
  {
   "cell_type": "code",
   "execution_count": 209,
   "metadata": {},
   "outputs": [
    {
     "data": {
      "text/plain": [
       "datetime.datetime(2022, 1, 1, 0, 5)"
      ]
     },
     "execution_count": 209,
     "metadata": {},
     "output_type": "execute_result"
    }
   ],
   "source": [
    "datetime(2022, 1, 1) + timedelta(minutes=5)"
   ]
  },
  {
   "cell_type": "code",
   "execution_count": 208,
   "metadata": {},
   "outputs": [
    {
     "ename": "UFuncTypeError",
     "evalue": "ufunc 'add' cannot use operands with types dtype('O') and dtype('<m8[ns]')",
     "output_type": "error",
     "traceback": [
      "\u001b[0;31m---------------------------------------------------------------------------\u001b[0m",
      "\u001b[0;31mUFuncTypeError\u001b[0m                            Traceback (most recent call last)",
      "Cell \u001b[0;32mIn[208], line 1\u001b[0m\n\u001b[0;32m----> 1\u001b[0m days[\u001b[39m0\u001b[39;49m,\u001b[39m0\u001b[39;49m] \u001b[39m+\u001b[39;49m minutes[\u001b[39m0\u001b[39;49m]\n",
      "\u001b[0;31mUFuncTypeError\u001b[0m: ufunc 'add' cannot use operands with types dtype('O') and dtype('<m8[ns]')"
     ]
    }
   ],
   "source": [
    "days[0,0] + minutes[0]"
   ]
  },
  {
   "cell_type": "code",
   "execution_count": 202,
   "metadata": {},
   "outputs": [
    {
     "data": {
      "text/plain": [
       "((103104,), (29690208,))"
      ]
     },
     "execution_count": 202,
     "metadata": {},
     "output_type": "execute_result"
    }
   ],
   "source": [
    "y.shape, t.shape"
   ]
  },
  {
   "cell_type": "code",
   "execution_count": 187,
   "metadata": {},
   "outputs": [],
   "source": [
    "diff = pred.set_index('ds') - power.set_index('ds')"
   ]
  },
  {
   "cell_type": "code",
   "execution_count": null,
   "metadata": {},
   "outputs": [],
   "source": [
    "plt.plot(avg_day);"
   ]
  },
  {
   "cell_type": "code",
   "execution_count": null,
   "metadata": {},
   "outputs": [],
   "source": [
    "plt.hist(diff.abs(), density=True, bins=10)\n",
    "plt.show()"
   ]
  },
  {
   "cell_type": "code",
   "execution_count": null,
   "metadata": {},
   "outputs": [],
   "source": [
    "plt.plot(pred['ds'], pred['y'], alpha=0.5)\n",
    "plt.plot(power['ds'], power['y'], alpha=0.5)\n",
    "plt.show()"
   ]
  },
  {
   "cell_type": "code",
   "execution_count": null,
   "metadata": {},
   "outputs": [],
   "source": []
  }
 ],
 "metadata": {
  "kernelspec": {
   "display_name": "Python 3.10.9 ('ds')",
   "language": "python",
   "name": "python3"
  },
  "language_info": {
   "codemirror_mode": {
    "name": "ipython",
    "version": 3
   },
   "file_extension": ".py",
   "mimetype": "text/x-python",
   "name": "python",
   "nbconvert_exporter": "python",
   "pygments_lexer": "ipython3",
   "version": "3.10.9"
  },
  "orig_nbformat": 4,
  "vscode": {
   "interpreter": {
    "hash": "868f397eb618ffbee5069d46a74f1311d7f755ffa6d7c2ea597f71a940bcd474"
   }
  }
 },
 "nbformat": 4,
 "nbformat_minor": 2
}
